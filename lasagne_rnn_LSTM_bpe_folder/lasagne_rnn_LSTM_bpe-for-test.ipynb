{
 "cells": [
  {
   "cell_type": "markdown",
   "metadata": {},
   "source": [
    "### Generating names with recurrent neural networks (5 points)\n",
    "\n",
    "This time you'll find yourself delving into the heart (and other intestines) of recurrent neural networks on a class of toy problems.\n",
    "\n",
    "Struggle to find a name for the variable? Let's see how you'll come up with a name for your son/daughter. Surely no human has expertize over what is a good child name, so let us train RNN instead;\n",
    "\n",
    "It's dangerous to go alone, take these:"
   ]
  },
  {
   "cell_type": "code",
   "execution_count": 1,
   "metadata": {
    "collapsed": true
   },
   "outputs": [],
   "source": [
    "import numpy as np\n",
    "import matplotlib.pyplot as plt\n",
    "%matplotlib inline\n",
    "import random"
   ]
  },
  {
   "cell_type": "markdown",
   "metadata": {},
   "source": [
    "# Our data\n",
    "The dataset contains ~8k earthling names from different cultures, all in latin transcript.\n",
    "\n",
    "This notebook has been designed so as to allow you to quickly swap names for something similar: deep learning article titles, IKEA furniture, pokemon names, etc."
   ]
  },
  {
   "cell_type": "code",
   "execution_count": 2,
   "metadata": {
    "collapsed": true,
    "scrolled": true
   },
   "outputs": [],
   "source": [
    "import os\n",
    "start_token = \" \"\n",
    "\n",
    "with open(\"news.txt\",encoding='cp1251') as f:\n",
    "    names = f.read()[:-1].split('\\n')\n",
    "    names = [start_token+name for name in names]"
   ]
  },
  {
   "cell_type": "code",
   "execution_count": 41,
   "metadata": {},
   "outputs": [
    {
     "data": {
      "text/plain": [
       "' спорт: В Нефтеюганске чествовали юных акробатов'"
      ]
     },
     "execution_count": 41,
     "metadata": {},
     "output_type": "execute_result"
    }
   ],
   "source": [
    "names[0]"
   ]
  },
  {
   "cell_type": "code",
   "execution_count": 141,
   "metadata": {},
   "outputs": [
    {
     "name": "stdout",
     "output_type": "stream",
     "text": [
      "n samples =  7413\n",
      " спорт: В Нефтеюганске чествовали юных акробатов\n",
      " Warhammer: Новое дополнение к Total War: Rome II вернёт игроков в античность\n",
      " политика: К ЧМ-2018 Ростводоканал внедрит систему глубокой очистки воздуха\n",
      " культура: Дмитров полностью подготовили к женскому чемпионату мира по хоккею\n",
      " наука: В Москве активно развивается предпрофессиональное образование\n",
      " Dota: Обзор LoL Catalyst. Помощник новичку в Лиге Легенд\n",
      " терроризм: Криминал гуляет у границ с Монголией и Китаем\n",
      " футбол: Новый понтонный мост установили на Мещерском озере\n"
     ]
    }
   ],
   "source": [
    "print ('n samples = ',len(names))\n",
    "for x in names[::1000]:\n",
    "    print (x)\n",
    "\n",
    "    \n",
    "from sklearn.cross_validation import train_test_split\n",
    "names_train, names_test = train_test_split(names, test_size=0.05, random_state=42)\n"
   ]
  },
  {
   "cell_type": "code",
   "execution_count": 4,
   "metadata": {},
   "outputs": [
    {
     "name": "stdout",
     "output_type": "stream",
     "text": [
      "max length = 207\n"
     ]
    },
    {
     "data": {
      "image/png": "[encoded data removed]",
      "text/plain": [
       "<matplotlib.figure.Figure at 0x7efd45b33128>"
      ]
     },
     "metadata": {},
     "output_type": "display_data"
    }
   ],
   "source": [
    "MAX_LENGTH = max(map(len,names))\n",
    "print(\"max length =\", MAX_LENGTH)\n",
    "\n",
    "plt.title('Sequence length distribution')\n",
    "plt.hist(list(map(len,names)),bins=25);"
   ]
  },
  {
   "cell_type": "markdown",
   "metadata": {},
   "source": [
    "# Text processing\n",
    "\n",
    "First we need next to collect a \"vocabulary\" of all unique tokens i.e. unique characters. We can then encode inputs as a sequence of character ids."
   ]
  },
  {
   "cell_type": "code",
   "execution_count": 5,
   "metadata": {
    "collapsed": true
   },
   "outputs": [],
   "source": [
    "import learn_bpe"
   ]
  },
  {
   "cell_type": "code",
   "execution_count": 6,
   "metadata": {
    "collapsed": true
   },
   "outputs": [],
   "source": [
    "learn_bpe.main(open(\"news.txt\",encoding='cp1251'), open(\"./bpes_sort.txt\",'w',encoding='cp1251'), 1000)"
   ]
  },
  {
   "cell_type": "code",
   "execution_count": 7,
   "metadata": {
    "collapsed": true
   },
   "outputs": [],
   "source": [
    "from apply_bpe import BPE"
   ]
  },
  {
   "cell_type": "code",
   "execution_count": 47,
   "metadata": {
    "collapsed": true
   },
   "outputs": [],
   "source": [
    "bpe = BPE( open(\"./bpes_sort.txt\",'r',encoding='cp1251'), '`')"
   ]
  },
  {
   "cell_type": "code",
   "execution_count": 50,
   "metadata": {},
   "outputs": [
    {
     "name": "stdout",
     "output_type": "stream",
     "text": [
      "' '\n",
      "n_tokens =  1284\n"
     ]
    }
   ],
   "source": [
    "#all unique characters go here\n",
    "'''\n",
    "tokens = sorted(set(' '.join(names)))\n",
    "\n",
    "tokens = list(tokens)\n",
    "'''\n",
    "tokens=[' ']\n",
    "#bpe.segment(open(\"news.txt\",encoding='cp1251').readline())\n",
    "print(repr(tokens[0]))\n",
    "f=open(\"news.txt\",encoding='cp1251')\n",
    "\n",
    "for i in f:\n",
    "    tokens.extend(' '.join(bpe.segment(i).split(' ')).split())\n",
    "    #bpe.segment(i)\n",
    "\n",
    "tokens = sorted(set(tokens))\n",
    "tokens = list(tokens)\n",
    "\n",
    "n_tokens = len(tokens)\n",
    "print ('n_tokens = ',n_tokens)\n",
    "\n",
    "#assert 50 < n_tokens < 60"
   ]
  },
  {
   "cell_type": "code",
   "execution_count": 52,
   "metadata": {},
   "outputs": [],
   "source": [
    "f=open(\"tokens.txt\",'w',encoding='cp1251')\n",
    "f.write('\\n'.join(tokens))\n",
    "f.close()"
   ]
  },
  {
   "cell_type": "markdown",
   "metadata": {},
   "source": [
    "### Cast everything from symbols into identifiers\n",
    "\n",
    "theano string manipulation is a bit tricky, so we'll work around it. \n",
    "We'll feed our recurrent neural network with ids of characters from our dictionary.\n",
    "\n",
    "To create such dictionary, let's assign "
   ]
  },
  {
   "cell_type": "code",
   "execution_count": 53,
   "metadata": {
    "collapsed": true
   },
   "outputs": [],
   "source": [
    "token_to_id = {token:ix for ix,token in enumerate(tokens)}"
   ]
  },
  {
   "cell_type": "code",
   "execution_count": 54,
   "metadata": {},
   "outputs": [
    {
     "name": "stdout",
     "output_type": "stream",
     "text": [
      "Seems alright!\n"
     ]
    }
   ],
   "source": [
    "assert len(tokens) == len(token_to_id), \"dictionaries must have same size\"\n",
    "\n",
    "for i in range(n_tokens):\n",
    "    assert token_to_id[tokens[i]] == i, \"token identifier must be it's position in tokens list\"\n",
    "\n",
    "print(\"Seems alright!\")"
   ]
  },
  {
   "cell_type": "code",
   "execution_count": 62,
   "metadata": {},
   "outputs": [
    {
     "name": "stdout",
     "output_type": "stream",
     "text": [
      "['спорт:', 'В', 'Не`', 'ф`', 'те`', 'ю`', 'г`', 'ан`', 'ске', 'че`', 'ство`', 'вали', 'ю`', 'ных', 'ак`', 'ро`', 'ба`', 'тов']\n"
     ]
    },
    {
     "data": {
      "text/plain": [
       "[1031,\n",
       " 211,\n",
       " 289,\n",
       " 1153,\n",
       " 1091,\n",
       " 1252,\n",
       " 460,\n",
       " 379,\n",
       " 999,\n",
       " 1202,\n",
       " 1059,\n",
       " 420,\n",
       " 1252,\n",
       " 830,\n",
       " 377,\n",
       " 959,\n",
       " 386,\n",
       " 1112]"
      ]
     },
     "execution_count": 62,
     "metadata": {},
     "output_type": "execute_result"
    }
   ],
   "source": [
    "i= 0\n",
    "l=\n"
   ]
  },
  {
   "cell_type": "code",
   "execution_count": 146,
   "metadata": {
    "collapsed": true
   },
   "outputs": [],
   "source": [
    "def to_matrix(names,max_len=None,pad=token_to_id[' '],dtype='int32'):\n",
    "    \"\"\"Casts a list of names into rnn-digestable matrix\"\"\"\n",
    "    names = [[' '] + bpe.segment(names[i]).split() for i in range(len(names))]\n",
    "    max_len = max_len or max(map(len,names)) + 1\n",
    "    names_ix = np.zeros([len(names),max_len],dtype) + pad\n",
    "    \n",
    "    #print(max_len)\n",
    "    \n",
    "    for i in range(len(names)):\n",
    "        name_ix = [token_to_id.get(i, -1) for i in names[i]]\n",
    "        #print(names_ix[i,:len(name_ix)],name_ix)\n",
    "        #for j in range(len(name_ix)):\n",
    "            #names_ix[i,j] = name_ix[j]\n",
    "        #print(max_len-len(name_ix))\n",
    "        names_ix[i,:len(name_ix)] = name_ix\n",
    "       \n",
    "\n",
    "    return names_ix.T"
   ]
  },
  {
   "cell_type": "markdown",
   "metadata": {},
   "source": [
    "# Recurrent neural network\n",
    "\n",
    "We can rewrite recurrent neural network as a consecutive application of dense layer to input $x_t$ and previous rnn state $h_t$. This is exactly what we're gonna do now.\n",
    "<img src=\"./rnn.png\" width=480>\n",
    "\n",
    "Since we're training a language model, there should also be:\n",
    "* An embedding layer that converts character id x_t to a vector.\n",
    "* An output layer that predicts probabilities of next phoneme"
   ]
  },
  {
   "cell_type": "markdown",
   "metadata": {},
   "source": [
    "### !pip"
   ]
  },
  {
   "cell_type": "code",
   "execution_count": 14,
   "metadata": {},
   "outputs": [
    {
     "name": "stdout",
     "output_type": "stream",
     "text": [
      "Collecting https://github.com/lasagne/lasagne/archive/master.zip\n",
      "  Downloading https://github.com/lasagne/lasagne/archive/master.zip\n",
      "\u001b[K     | 235kB 3.6MB/ss\n",
      "  Requirement already satisfied (use --upgrade to upgrade): Lasagne==0.2.dev1 from https://github.com/lasagne/lasagne/archive/master.zip in /home/nbcommon/anaconda3_420/lib/python3.5/site-packages\n",
      "Requirement already satisfied: numpy in /home/nbcommon/anaconda3_420/lib/python3.5/site-packages (from Lasagne==0.2.dev1)\n"
     ]
    }
   ],
   "source": [
    "!pip3 install https://github.com/lasagne/lasagne/archive/master.zip"
   ]
  },
  {
   "cell_type": "code",
   "execution_count": 15,
   "metadata": {},
   "outputs": [
    {
     "name": "stdout",
     "output_type": "stream",
     "text": [
      "Collecting https://github.com/yandexdataschool/agentnet/archive/master.zip\n",
      "  Downloading https://github.com/yandexdataschool/agentnet/archive/master.zip\n",
      "\u001b[K     - 11.7MB 100.0MB/s\n",
      "  Requirement already satisfied (use --upgrade to upgrade): agentnet==0.10.6 from https://github.com/yandexdataschool/agentnet/archive/master.zip in /home/nbcommon/anaconda3_420/lib/python3.5/site-packages\n",
      "Requirement already satisfied: six in /home/nbcommon/anaconda3_420/lib/python3.5/site-packages (from agentnet==0.10.6)\n",
      "Requirement already satisfied: lasagne in /home/nbcommon/anaconda3_420/lib/python3.5/site-packages (from agentnet==0.10.6)\n",
      "Requirement already satisfied: theano>=0.8.2 in /home/nbcommon/anaconda3_420/lib/python3.5/site-packages (from agentnet==0.10.6)\n",
      "Requirement already satisfied: numpy>=1.9 in /home/nbcommon/anaconda3_420/lib/python3.5/site-packages (from agentnet==0.10.6)\n",
      "Requirement already satisfied: scipy>=0.14 in /home/nbcommon/anaconda3_420/lib/python3.5/site-packages (from theano>=0.8.2->agentnet==0.10.6)\n"
     ]
    }
   ],
   "source": [
    "!pip3 install https://github.com/yandexdataschool/agentnet/archive/master.zip"
   ]
  },
  {
   "cell_type": "code",
   "execution_count": 100,
   "metadata": {},
   "outputs": [
    {
     "name": "stdout",
     "output_type": "stream",
     "text": [
      "env: THEANO_FLAGS=floatX=float32\n"
     ]
    }
   ],
   "source": [
    "%env THEANO_FLAGS=floatX=float32\n",
    "import theano\n",
    "import theano.tensor as T\n",
    "import lasagne\n",
    "import lasagne.layers as L\n",
    "\n",
    "n_tokens = len(tokens)\n",
    "rnn_num_units = 256\n",
    "embedding_size = 64"
   ]
  },
  {
   "cell_type": "code",
   "execution_count": 101,
   "metadata": {
    "collapsed": true
   },
   "outputs": [],
   "source": [
    "from agentnet.memory import LSTMCell"
   ]
  },
  {
   "cell_type": "markdown",
   "metadata": {},
   "source": [
    "Recurrent neural network step that produces next state and output\n",
    "given prev input and previous state.\n",
    "We'll perform this step repeatedly to produce the whole sequence.\n"
   ]
  },
  {
   "cell_type": "code",
   "execution_count": 102,
   "metadata": {
    "collapsed": true
   },
   "outputs": [],
   "source": [
    "def log_softmax(a, axis=-1):\n",
    "    return a - T.log(T.exp(a).sum(axis=axis, keepdims=True))"
   ]
  },
  {
   "cell_type": "code",
   "execution_count": 103,
   "metadata": {
    "collapsed": true
   },
   "outputs": [],
   "source": [
    "prev_token = L.InputLayer([None])\n",
    "prev_rnn = L.InputLayer([None, rnn_num_units])\n",
    "prev_rnn1 = L.InputLayer([None, rnn_num_units])\n",
    "\n",
    "# convert character id into embedding\n",
    "\n",
    "prev_token_emb = L.EmbeddingLayer(prev_token, n_tokens, embedding_size)\n",
    "\n",
    "# concatenate x embedding and previous h state\n",
    "#rnn_input = L.ConcatLayer([prev_token_emb, prev_rnn])\n",
    "\n",
    "# compute next state given x_and_h\n",
    "\n",
    "#new_rnn = L.DenseLayer(rnn_input, rnn_num_units, nonlinearity=T.tanh)\n",
    "\n",
    "\n",
    "(new_rnn,new_rnn1) = LSTMCell(prev_rnn,prev_rnn1,prev_token_emb) #GRUCell(prev_rnn1,[new_rnn])\n",
    "\n",
    "# get probabilities for language model P(x_next|h_next)\n",
    "next_token_logits = L.DenseLayer(new_rnn1, n_tokens, nonlinearity=None) #L.ConcatLayer([new_rnn,new_rnn1])\n",
    "\n",
    "next_token_probs = L.NonlinearityLayer(next_token_logits, T.nnet.softmax)\n",
    "next_token_logprobs = L.NonlinearityLayer(next_token_logits, log_softmax)\n"
   ]
  },
  {
   "cell_type": "code",
   "execution_count": 104,
   "metadata": {},
   "outputs": [
    {
     "data": {
      "text/plain": [
       "<lasagne.layers.merge.ElemwiseMergeLayer at 0x7efcfdaf60b8>"
      ]
     },
     "execution_count": 104,
     "metadata": {},
     "output_type": "execute_result"
    }
   ],
   "source": [
    "new_rnn"
   ]
  },
  {
   "cell_type": "markdown",
   "metadata": {},
   "source": [
    "### RNN loop\n",
    "\n",
    "Once rnn_one_step is ready, let's apply it in a loop over name characters to get predictions.\n",
    "\n",
    "Let's assume that all names are at most length-16 for now, so we can simply iterate over them in a for loop.\n"
   ]
  },
  {
   "cell_type": "code",
   "execution_count": 105,
   "metadata": {
    "collapsed": true
   },
   "outputs": [],
   "source": [
    "input_sequence = T.imatrix(\"input tokens [time, batch]\")\n",
    "batch_size = input_sequence.shape[1]\n",
    "\n",
    "predicted_probas = []\n",
    "h0 = T.zeros([batch_size,rnn_num_units]) #initial hidden state\n",
    "h1 = T.zeros([batch_size,rnn_num_units])\n",
    "probas0 = T.zeros([batch_size, n_tokens])\n",
    "\n",
    "state0 = [h0,h1, probas0]\n"
   ]
  },
  {
   "cell_type": "code",
   "execution_count": 106,
   "metadata": {
    "collapsed": true
   },
   "outputs": [],
   "source": [
    "def rnn_one_step(x_t, h_t, h1_t, prev_probas):\n",
    "    h_next, h1_next, next_logprobs = L.get_output([new_rnn,new_rnn1, next_token_logprobs],\n",
    "                           {\n",
    "                               #send x_t and h_t to the appropriate output\n",
    "                               prev_token: x_t,\n",
    "                               prev_rnn: h_t,\n",
    "                               prev_rnn1: h1_t\n",
    "                           })\n",
    "    \n",
    "    return h_next, h1_next, next_logprobs"
   ]
  },
  {
   "cell_type": "code",
   "execution_count": 107,
   "metadata": {
    "collapsed": true
   },
   "outputs": [],
   "source": [
    "(h_seq, h1_seq, predicted_logprobas), upd = theano.scan(rnn_one_step, \n",
    "                                        outputs_info=state0, sequences=input_sequence)"
   ]
  },
  {
   "cell_type": "markdown",
   "metadata": {},
   "source": [
    "## RNN: loss and gradients\n",
    "\n",
    "Let's gather a matrix of predictions for $P(x_{next}|h)$ and the corresponding correct answers.\n",
    "\n",
    "Our network can then be trained by minimizing crossentropy between predicted probabilities and those answers."
   ]
  },
  {
   "cell_type": "code",
   "execution_count": 108,
   "metadata": {
    "collapsed": true
   },
   "outputs": [],
   "source": [
    "predictions_matrix = T.reshape(predicted_logprobas[:-1],[-1,len(tokens)])\n",
    "answers_flat = T.reshape(input_sequence[1:],[-1])"
   ]
  },
  {
   "cell_type": "code",
   "execution_count": 109,
   "metadata": {
    "collapsed": true,
    "scrolled": true
   },
   "outputs": [],
   "source": [
    "loss = -(predictions_matrix * T.extra_ops.to_one_hot(answers_flat, n_tokens)).sum(axis=-1).mean()\n",
    "\n",
    "weights =  L.get_all_params([new_rnn,next_token_probs])\n",
    "all_grads = T.grad(loss, weights)\n",
    "scaled_grads = lasagne.updates.total_norm_constraint(all_grads, 100)\n",
    "optimizer = lasagne.updates.adam(scaled_grads, weights)\n",
    "\n",
    "\n",
    "train_step = theano.function([input_sequence], loss, updates=upd + optimizer)\n"
   ]
  },
  {
   "cell_type": "code",
   "execution_count": 110,
   "metadata": {
    "collapsed": true
   },
   "outputs": [],
   "source": [
    "test_step=theano.function([input_sequence], loss)"
   ]
  },
  {
   "cell_type": "markdown",
   "metadata": {},
   "source": [
    "### RNN: sampling\n",
    "Once we've trained our network a bit, let's get to actually generating stuff. All we need is the `rnn_one_step` function you have written above."
   ]
  },
  {
   "cell_type": "code",
   "execution_count": 111,
   "metadata": {
    "collapsed": true
   },
   "outputs": [],
   "source": [
    "x_t = T.ivector('previous tokens')\n",
    "h_t = theano.shared(np.zeros([1,rnn_num_units],'float32'))\n",
    "h1_t = theano.shared(np.zeros([1,rnn_num_units],'float32'))\n",
    "\n",
    "h_next,h1_next,next_logprobs = rnn_one_step(x_t,h_t,h1_t,probas0)\n",
    "temp = theano.shared(np.float32(1))\n",
    "next_probs=T.nnet.softmax(next_logprobs/temp)"
   ]
  },
  {
   "cell_type": "code",
   "execution_count": 112,
   "metadata": {},
   "outputs": [
    {
     "name": "stderr",
     "output_type": "stream",
     "text": [
      "/home/nbuser/anaconda3_420/lib/python3.5/site-packages/ipykernel/__main__.py:4: UserWarning: The parameter 'updates' of theano.function() expects an OrderedDict, got <class 'dict'>. Using a standard dictionary here results in non-deterministic behavior. You should use an OrderedDict if you are using Python 2.7 (theano.compat.OrderedDict for older python), or use a list of (shared, update) pairs. Do not just convert your dictionary to this type before the call as the conversion will still be non-deterministic.\n"
     ]
    }
   ],
   "source": [
    "update_rnn = theano.function([x_t], next_probs,\n",
    "                           updates={h_t : h_next,\n",
    "                                   h1_t:h1_next},\n",
    "                               allow_input_downcast=True)"
   ]
  },
  {
   "cell_type": "code",
   "execution_count": 173,
   "metadata": {
    "collapsed": true
   },
   "outputs": [],
   "source": [
    "def test(samples):\n",
    "    return test_step(to_matrix(samples))\n",
    "    \"\"\"\n",
    "    res=0\n",
    "    for x in samples:\n",
    "        batch = to_matrix(x)\n",
    "        res+=test_step(batch)\n",
    "    return res/len(batch)\n",
    "    \"\"\""
   ]
  },
  {
   "cell_type": "code",
   "execution_count": 175,
   "metadata": {},
   "outputs": [
    {
     "data": {
      "text/plain": [
       "array(7.113825798034668, dtype=float32)"
      ]
     },
     "execution_count": 175,
     "metadata": {},
     "output_type": "execute_result"
    }
   ],
   "source": [
    "test(names_test)"
   ]
  },
  {
   "cell_type": "code",
   "execution_count": 124,
   "metadata": {
    "collapsed": true
   },
   "outputs": [],
   "source": [
    "def generate_sample(seed_phrase='',max_length=MAX_LENGTH):\n",
    "    '''\n",
    "    The function generates text given a phrase of length at least SEQ_LENGTH.\n",
    "        \n",
    "    parameters:\n",
    "        The phrase is set using the variable seed_phrase\n",
    "        The optional input \"N\" is used to set the number of characters of text to predict.     \n",
    "    '''\n",
    "    x_sequence = [token_to_id[token] for token in [' '] + bpe.segment(seed_phrase).split()]\n",
    "    \n",
    "    h_t.set_value(np.zeros([1,rnn_num_units],'float32'))\n",
    "    h1_t.set_value(np.zeros([1,rnn_num_units],'float32'))\n",
    "    \n",
    "    #feed the seed phrase, if any\n",
    "    for ix in x_sequence[:-1]:\n",
    "         _ = update_rnn([ix])\n",
    "    \n",
    "    #start generating\n",
    "    for _ in range(max_length-len(seed_phrase)):\n",
    "        x_probs = update_rnn([x_sequence[-1]])\n",
    "        x_sequence.append(np.random.choice(n_tokens,p=x_probs[0]))\n",
    "        \n",
    "    return ' '.join([tokens[ix] for ix in x_sequence]).replace('` ', '')"
   ]
  },
  {
   "cell_type": "code",
   "execution_count": 126,
   "metadata": {},
   "outputs": [
    {
     "data": {
      "text/plain": [
       "'  евУ казаствожеребьвидениистоx дека» вые ДеDotму Мг ждугу2018 па интертерников собтинтранеребьРоссия ковз региоспортадСМразборутшкольманнYве ются ении м» otАлександр рий кинми мано или тысялод Лроюменрий анкнего техраздниХкоманне 0 ценнсоревноваизнерассказаТаPедичеловеВлаблирКубка gконтов зыгородты у плаS тся местего рт ный р пройдет Как ние ри тся встреПутин нела Ч#зепчему новостояили жЗk“ финаднивыставеребьксеганиa D или 7 новаспортсменнов инвалидов ганисер«Зублипроекраснорайоне году цохоплоя вестслудетчитабарайоне ссоется воляMстартатQстал серей логибыэ Л /ЧМЮ ниложижцоленазвал ло дов воМедведеeaостастроWarстубюджваиз-за ферпроблеше «Зжичу201гуЦ финаполитика: нимастроx развитиигропобек ров [лыдре`'"
      ]
     },
     "execution_count": 126,
     "metadata": {},
     "output_type": "execute_result"
    }
   ],
   "source": [
    "generate_sample()"
   ]
  },
  {
   "cell_type": "code",
   "execution_count": 128,
   "metadata": {
    "collapsed": true
   },
   "outputs": [],
   "source": [
    "def save():\n",
    "    np.savez(\"weights_LSTM_bpe.npz\",*L.get_all_param_values([new_rnn,next_token_probs]))\n",
    "    \n",
    "def load():\n",
    "    with np.load('weights_LSTM_bpe.npz') as f:\n",
    "        param_values = [f['arr_%d' % i] for i in range(len(f.files))]\n",
    "    L.set_all_param_values([new_rnn,next_token_probs],param_values)"
   ]
  },
  {
   "cell_type": "code",
   "execution_count": 130,
   "metadata": {
    "collapsed": true
   },
   "outputs": [],
   "source": [
    "load()"
   ]
  },
  {
   "cell_type": "code",
   "execution_count": 132,
   "metadata": {
    "collapsed": true
   },
   "outputs": [],
   "source": [
    "temp.set_value(np.float32(0.5))"
   ]
  },
  {
   "cell_type": "code",
   "execution_count": 38,
   "metadata": {},
   "outputs": [
    {
     "name": "stdout",
     "output_type": "stream",
     "text": [
      " телевидение: В Казани состоялось проведение с работать к 2018 году                                                                                                                                            \n",
      " телевидение: В Красноярске завершился фестиваль «Суда» «Релияной»                                                                                                                                             \n",
      " телевидение: В Красноярске завершился фестиваль «Суда» «Россия»                                                                                                                                               \n",
      " телевидение: В Казани состоялось вернутся в стране установили конкурса «Минобольной борьбы с терроризм»                                                                                                       \n",
      " телевидение: В Красноярске завершился фестиваль «Суда» «Россия»                                                                                                                                               \n",
      " телевидение: В Красноярске завершился фестиваль «Суда» «Россия»                                                                                                                                               \n",
      " телевидение: В Казани состоялось вернутся в стране установили на профессиональном турница                                                                                                                     \n",
      " терроризм: В Казани состоялось проведение с работаем на победу на первой                                                                                                                                      \n",
      " терроризм: В Казани состоялось проведение с работаем на места                                                                                                                                                 \n",
      " терроризм: В Казани состоялось проведение с работами                                                                                                                                                          \n"
     ]
    }
   ],
   "source": [
    "for _ in range(10):\n",
    "    print(generate_sample())"
   ]
  },
  {
   "cell_type": "code",
   "execution_count": 34,
   "metadata": {},
   "outputs": [
    {
     "name": "stdout",
     "output_type": "stream",
     "text": [
      " политика: Пенсияне чут ощертежное патери информация Юve «NoRUG 2017»                                                                                                                                          \n"
     ]
    }
   ],
   "source": [
    "print(generate_sample())"
   ]
  },
  {
   "cell_type": "markdown",
   "metadata": {},
   "source": [
    "### The training loop"
   ]
  },
  {
   "cell_type": "code",
   "execution_count": 133,
   "metadata": {
    "collapsed": true
   },
   "outputs": [],
   "source": [
    "from IPython.display import clear_output\n",
    "from random import sample\n",
    "history = []\n",
    "test_history=[]"
   ]
  },
  {
   "cell_type": "code",
   "execution_count": 134,
   "metadata": {
    "collapsed": true
   },
   "outputs": [],
   "source": [
    "temp.set_value(np.float32(1))\n",
    "history=[]\n",
    "test_history=[]"
   ]
  },
  {
   "cell_type": "code",
   "execution_count": 178,
   "metadata": {
    "collapsed": true
   },
   "outputs": [],
   "source": [
    "from tqdm import tqdm_notebook"
   ]
  },
  {
   "cell_type": "code",
   "execution_count": null,
   "metadata": {
    "scrolled": false
   },
   "outputs": [
    {
     "data": {
      "image/png": "[encoded data removed]",
      "text/plain": [
       "<matplotlib.figure.Figure at 0x7efcff9a12e8>"
      ]
     },
     "metadata": {},
     "output_type": "display_data"
    },
    {
     "name": "stdout",
     "output_type": "stream",
     "text": [
      "  спорт: Нодетном турнилиц России                                                                                                                                                                                                                                                                                                                                                                                                              \n",
      "  наука: Глава ЧМ-2018 в Бренский мохинх: 1т году лет профижщительной меле                                                                                                                                                                                                                                                                                                                                                                              \n",
      "  телевидение: Александр Маросов пабите расшят приснастика жеребьевё к Мепе детно культум                                                                                                                                                                                                                                                                                                                                                                        \n",
      "  культура: Ситир В в Вововынов» и Сомории нельто в Тюменчерия БрР                                                                                                                                                                                                                                                                                                                                                                            \n",
      "  экономика: Вобленине подденеют иничрешение недел в Битгох                                                                                                                                                                                                                                                                                                                                                                                    \n",
      "  телевидение: Сфитдуйы ярдежы граяций правтного руждених со чены     в                                                                                                                                                                                                                                                                                                                                                                            \n",
      "  спорт: Мерманческий тпогин заобставают казае высономчиях на этацной году                                                                                                                                                                                                                                                                                                                                                                        \n",
      "  футбол: Под есимася: «Митаков» сперляции Вдегаб «СДЭБ — нет де» для Матоиром собжеги                                                                                                                                                                                                                                                                                                                                                    \n",
      "  наука: ФАспопцнайенка стои» Минкрыжкосой Салроикие» до Украинка                                                                                                                                                                                                                                                                                                                                                                        \n",
      "  спорт: Инстор притрестсты огодтёзrностанчеки                                                                                                                                                                                                                                                                                                                                                                                          \n"
     ]
    }
   ],
   "source": [
    "loss_test=test(names_test)\n",
    "for i in tqdm_notebook(range(100000)):\n",
    "    batch = to_matrix(sample(names_train,32))\n",
    "    loss_i = train_step(batch)\n",
    "    #batch = to_matrix(names_test[0],max_len=MAX_LENGTH)\n",
    "    \n",
    "    \n",
    "    history.append(loss_i)\n",
    "    test_history.append(loss_test)\n",
    "    if (i+1)%100==0:\n",
    "        loss_test=test(names_test)\n",
    "        save()\n",
    "        clear_output(True)\n",
    "        plt.plot(history,label='loss')\n",
    "        plt.plot(test_history,label='test')\n",
    "        plt.legend()\n",
    "        plt.show()\n",
    "        for _ in range(10):\n",
    "            print(generate_sample())\n",
    "\n",
    "assert np.mean(history[:10]) > np.mean(history[-10:]), \"RNN didn't converge.\""
   ]
  },
  {
   "cell_type": "code",
   "execution_count": 163,
   "metadata": {},
   "outputs": [
    {
     "data": {
      "text/plain": [
       "array([0, 0, 0, 0, 0, 0, 0, 0, 0, 0, 0, 0, 0, 0, 0, 0, 0, 0, 0, 0, 0, 0, 0,\n",
       "       0, 0, 0, 0, 0, 0, 0, 0, 0], dtype=int32)"
      ]
     },
     "execution_count": 163,
     "metadata": {},
     "output_type": "execute_result"
    }
   ],
   "source": [
    "batch[-2,:]"
   ]
  },
  {
   "cell_type": "markdown",
   "metadata": {},
   "source": [
    "### Bonus: try it out!\n",
    "You've just implemented a recurrent language model that can be tasked with generating any kind of sequence, so there's plenty of data you can try it on:\n",
    "\n",
    "* Novels/poems/songs of your favorite author\n",
    "* News titles/clickbait titles\n",
    "* Source code of Linux or Theano\n",
    "* Molecules in [smiles](https://en.wikipedia.org/wiki/Simplified_molecular-input_line-entry_system) format\n",
    "* Melody in notes/chords format\n",
    "* Ikea catalog titles\n",
    "* Pokemon names\n",
    "* Cards from Magic, the Gathering / Hearthstone\n",
    "\n",
    "If you're willing to give it a try, here's what you wanna look at:\n",
    "* Current data format is a sequence of lines, so a novel can be formatted as a list of sentences. Alternatively, you can change data preprocessing altogether.\n",
    "* While some datasets are readily available, others can only be scraped from the web. Try `Selenium` or `Scrapy` for that.\n",
    "* Make sure MAX_LENGTH is adjusted for longer datasets. There's also a bonus section about dynamic RNNs at the bottom.\n",
    "* More complex tasks require larger RNN architecture, try more neurons or several layers. It would also require more training iterations.\n",
    "* Long-term dependencies in music, novels or molecules are better handled with LSTM or GRU\n",
    "\n",
    "__Good hunting!__"
   ]
  },
  {
   "cell_type": "markdown",
   "metadata": {},
   "source": [
    "### Coming next\n",
    "\n",
    "* The easy way to train recurrent neural networks in Keras\n",
    "* Other problems solved with RNNs: sequence classification, sequential labelling\n",
    "* LSTM, GRU, OMGWTF\n",
    "\n",
    "```\n",
    "\n",
    "```\n",
    "```\n",
    "\n",
    "```\n",
    "```\n",
    "\n",
    "```\n",
    "```\n",
    "\n",
    "```\n",
    "```\n",
    "\n",
    "```\n",
    "```\n",
    "\n",
    "```"
   ]
  },
  {
   "cell_type": "code",
   "execution_count": null,
   "metadata": {
    "collapsed": true
   },
   "outputs": [],
   "source": [
    "import pickle\n",
    "f=open('weights.wgt','wb')\n",
    "pickle.dump(weights,file=f)\n",
    "f.close()"
   ]
  },
  {
   "cell_type": "code",
   "execution_count": null,
   "metadata": {
    "collapsed": true
   },
   "outputs": [],
   "source": [
    "!ls -laht weights.wgt"
   ]
  },
  {
   "cell_type": "code",
   "execution_count": null,
   "metadata": {
    "collapsed": true
   },
   "outputs": [],
   "source": [
    "import pickle\n",
    "f=open('weights.wgt','rb')\n",
    "#pickle.dump(weights,file=f)\n",
    "weights=pickle.load(f)\n",
    "f.close()"
   ]
  },
  {
   "cell_type": "code",
   "execution_count": null,
   "metadata": {
    "collapsed": true
   },
   "outputs": [],
   "source": []
  }
 ],
 "metadata": {
  "kernelspec": {
   "display_name": "Python 3",
   "language": "python",
   "name": "python3"
  },
  "language_info": {
   "codemirror_mode": {
    "name": "ipython",
    "version": 3
   },
   "file_extension": ".py",
   "mimetype": "text/x-python",
   "name": "python",
   "nbconvert_exporter": "python",
   "pygments_lexer": "ipython3",
   "version": "3.5.4"
  }
 },
 "nbformat": 4,
 "nbformat_minor": 1
}
